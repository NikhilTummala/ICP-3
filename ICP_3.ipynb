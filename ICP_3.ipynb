{
  "nbformat": 4,
  "nbformat_minor": 0,
  "metadata": {
    "colab": {
      "provenance": [],
      "authorship_tag": "ABX9TyOcAQ6+sShcApBuGLKKo5c7",
      "include_colab_link": true
    },
    "kernelspec": {
      "name": "python3",
      "display_name": "Python 3"
    },
    "language_info": {
      "name": "python"
    }
  },
  "cells": [
    {
      "cell_type": "markdown",
      "metadata": {
        "id": "view-in-github",
        "colab_type": "text"
      },
      "source": [
        "<a href=\"https://colab.research.google.com/github/NikhilTummala/ICP-3/blob/main/ICP_3.ipynb\" target=\"_parent\"><img src=\"https://colab.research.google.com/assets/colab-badge.svg\" alt=\"Open In Colab\"/></a>"
      ]
    },
    {
      "cell_type": "code",
      "execution_count": 2,
      "metadata": {
        "colab": {
          "base_uri": "https://localhost:8080/"
        },
        "id": "UfB6sZDQvjdy",
        "outputId": "c02dd594-11c0-4abd-cd5c-b39533eac36d"
      },
      "outputs": [
        {
          "output_type": "stream",
          "name": "stdout",
          "text": [
            "* \n",
            "* * \n",
            "* * * \n",
            "* * * * \n",
            "* * * * * \n",
            "* * * * \n",
            "* * * \n",
            "* * \n",
            "* \n"
          ]
        }
      ],
      "source": [
        "# ICP 3\n",
        "# Question 1\n",
        "\n",
        "rows = 5  # Peak of the pattern\n",
        "\n",
        "# Upper part of the pattern\n",
        "for i in range(1, rows + 1):\n",
        "    print(\"* \" * i)\n",
        "\n",
        "# Lower part of the pattern\n",
        "for i in range(rows - 1, 0, -1):\n",
        "    print(\"* \" * i)\n",
        "\n"
      ]
    },
    {
      "cell_type": "code",
      "source": [
        "#Counter.count is a class variable shared among all instances of the Counter class, meaning any change to it affects all objects of the class. On the other hand, self._count is an instance variable, unique to each object, and changes only when the specific instance calls the increment() method. While Counter.count keeps a cumulative count across all instances, self._count keeps track of the count specific to a single instance.\n",
        "\n",
        "#When a.get_counts() is called, it returns \"Instance count: 2, class count: 3\" because a has called increment() twice, making a._count = 2, while the class variable Counter.count, which tracks all increments, is updated to 3. Similarly, b.get_counts() returns \"Instance count: 1, class count: 3\" because b has called increment() once, updating only b._count = 1, while Counter.count remains 3 since it tracks all increments from both instances.\n",
        "\n",
        "#The increment() method increases the instance variable _count by 1, affecting only the object that calls it. At the same time, it also increases Counter.count by 1, which is shared among all instances. This means that while each instance tracks its own count separately, the class variable maintains a cumulative count of all increments across every object of the Counter class."
      ],
      "metadata": {
        "id": "sO71zR47v6LP"
      },
      "execution_count": null,
      "outputs": []
    },
    {
      "cell_type": "code",
      "source": [
        "# ICP 3\n",
        "# Question 3\n",
        "\n",
        "def sum_all(*args):  # Using *args to accept multiple arguments\n",
        "    return sum(args)\n",
        "\n",
        "print(\"Sum of 1, 2, 3 is:\", sum_all(1, 2, 3))\n",
        "print(\"Sum of 4, 5, 6, 7 is:\", sum_all(4, 5, 6, 7))\n"
      ],
      "metadata": {
        "colab": {
          "base_uri": "https://localhost:8080/"
        },
        "id": "D_JVntoSv6WM",
        "outputId": "a1d0fa06-26d5-48f4-e28d-fdab4503fc64"
      },
      "execution_count": 3,
      "outputs": [
        {
          "output_type": "stream",
          "name": "stdout",
          "text": [
            "Sum of 1, 2, 3 is: 6\n",
            "Sum of 4, 5, 6, 7 is: 22\n"
          ]
        }
      ]
    },
    {
      "cell_type": "code",
      "source": [
        "# ICP 3\n",
        "# Question 4\n",
        "\n",
        "my_list = [10, 20, 30, 40, 50, 60, 70, 80, 90, 100]\n",
        "\n",
        "# Loop through odd indexes\n",
        "for i in range(1, len(my_list), 2):\n",
        "    print(my_list[i])\n"
      ],
      "metadata": {
        "id": "P74Vhhb6v6eI"
      },
      "execution_count": null,
      "outputs": []
    },
    {
      "cell_type": "code",
      "source": [
        "# ICP 3\n",
        "# Question 5\n",
        "\n",
        "def get_unique_items(lst):\n",
        "    unique_list = []\n",
        "    for item in lst:\n",
        "        if item not in unique_list:\n",
        "            unique_list.append(item)\n",
        "    return unique_list\n",
        "\n",
        "# Sample List\n",
        "sample_list = [1, 2, 3, 3, 3, 3, 4, 5]\n",
        "print(\"Unique List:\", get_unique_items(sample_list))\n"
      ],
      "metadata": {
        "colab": {
          "base_uri": "https://localhost:8080/"
        },
        "id": "aRyfAvlVyouA",
        "outputId": "49e993ad-32f2-450d-93c9-67a7f4a3f1b2"
      },
      "execution_count": 8,
      "outputs": [
        {
          "output_type": "stream",
          "name": "stdout",
          "text": [
            "Unique List: [1, 2, 3, 4, 5]\n"
          ]
        }
      ]
    },
    {
      "cell_type": "code",
      "source": [
        "# ICP 3\n",
        "# Question 6\n",
        "\n",
        "class Employee:\n",
        "    employee_count = 0  # Class variable to count employees\n",
        "\n",
        "    def __init__(self, name, family, salary, department):\n",
        "        self.name = name\n",
        "        self.family = family\n",
        "        self.salary = salary\n",
        "        self.department = department\n",
        "        Employee.employee_count += 1  # Increment employee count\n",
        "\n",
        "    @classmethod\n",
        "    def average_salary(cls, employees):\n",
        "        total_salary = sum(emp.salary for emp in employees)\n",
        "        return total_salary / len(employees) if employees else 0\n",
        "\n",
        "class FulltimeEmployee(Employee):  # Inheriting from Employee class\n",
        "    def __init__(self, name, family, salary, department):\n",
        "        super().__init__(name, family, salary, department)  # Call parent constructor\n",
        "\n",
        "# Creating Employee and FulltimeEmployee instances\n",
        "emp1 = Employee(\"Alice\", \"Smith\", 50000, \"HR\")\n",
        "emp2 = Employee(\"Bob\", \"Johnson\", 60000, \"Finance\")\n",
        "full_emp1 = FulltimeEmployee(\"Charlie\", \"Brown\", 70000, \"Engineering\")\n",
        "full_emp2 = FulltimeEmployee(\"David\", \"Williams\", 80000, \"IT\")\n",
        "\n",
        "# Storing all employees in a list to calculate average salary\n",
        "employees = [emp1, emp2, full_emp1, full_emp2]\n",
        "\n",
        "# Printing results\n",
        "print(\"Total Employees:\", Employee.employee_count)\n",
        "print(\"Average Salary:\", Employee.average_salary(employees))\n"
      ],
      "metadata": {
        "colab": {
          "base_uri": "https://localhost:8080/"
        },
        "id": "uDCKhg2myxVw",
        "outputId": "e95152db-6f95-41f4-f845-8bb7f1008171"
      },
      "execution_count": 11,
      "outputs": [
        {
          "output_type": "stream",
          "name": "stdout",
          "text": [
            "Total Employees: 4\n",
            "Average Salary: 65000.0\n"
          ]
        }
      ]
    }
  ]
}